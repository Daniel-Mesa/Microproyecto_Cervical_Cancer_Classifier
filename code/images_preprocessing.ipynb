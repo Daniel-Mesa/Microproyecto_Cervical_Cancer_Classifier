{
 "cells": [
  {
   "cell_type": "code",
   "execution_count": null,
   "id": "31a56fa1",
   "metadata": {},
   "outputs": [],
   "source": [
    "import os\n",
    "import cv2\n",
    "import numpy as np\n",
    "from tqdm import tqdm"
   ]
  },
  {
   "cell_type": "code",
   "execution_count": null,
   "id": "6612698f",
   "metadata": {},
   "outputs": [],
   "source": [
    "input_dir = r\"C:\\Users\\dcmes\\OneDrive\\Desktop\\Microproyecto_Cervical_Cancer_Classifier\\Imagenes-split\"\n",
    "\n",
    "# Ruta a donde se guardará el dataset preprocesado\n",
    "output_dir = r\"C:\\Users\\dcmes\\OneDrive\\Desktop\\Microproyecto_Cervical_Cancer_Classifier\\dataset_preprocesado\"\n"
   ]
  },
  {
   "cell_type": "code",
   "execution_count": null,
   "id": "c85bba92",
   "metadata": {},
   "outputs": [],
   "source": [
    "# Crear CLAHE para mejorar contraste\n",
    "clahe = cv2.createCLAHE(clipLimit=2.0, tileGridSize=(8,8))"
   ]
  },
  {
   "cell_type": "code",
   "execution_count": null,
   "id": "988fc166",
   "metadata": {},
   "outputs": [],
   "source": [
    "for root, dirs, files in os.walk(input_dir):\n",
    "    for file in tqdm(files, desc=f\"Procesando {root}\"):\n",
    "        if file.lower().endswith((\".png\", \".jpg\", \".jpeg\")):\n",
    "            # Rutas de entrada y salida\n",
    "            input_path = os.path.join(root, file)\n",
    "            relative_path = os.path.relpath(root, input_dir)\n",
    "            output_path_dir = os.path.join(output_dir, relative_path)\n",
    "            os.makedirs(output_path_dir, exist_ok=True)\n",
    "            output_path = os.path.join(output_path_dir, file)\n",
    "\n",
    "            # Leer en escala de grises\n",
    "            img = cv2.imread(input_path, cv2.IMREAD_GRAYSCALE)\n",
    "\n",
    "            # Normalización a [0, 255] (para aplicar CLAHE correctamente)\n",
    "            img = cv2.normalize(img, None, 0, 255, cv2.NORM_MINMAX)\n",
    "\n",
    "            # Aplicar CLAHE\n",
    "            img_clahe = clahe.apply(img.astype(np.uint8))\n",
    "\n",
    "            # Normalización final a [0,1] (opcional, YOLO internamente ya normaliza)\n",
    "            img_norm = img_clahe.astype(np.float32) / 255.0\n",
    "\n",
    "            # Volver a 0-255 y duplicar canales para YOLO (3 canales)\n",
    "            img_final = (img_norm * 255).astype(np.uint8)\n",
    "            img_final = cv2.merge([img_final, img_final, img_final])\n",
    "\n",
    "            # Guardar\n",
    "            cv2.imwrite(output_path, img_final)\n",
    "\n",
    "print(\"Las imágenes están en:\", output_dir)"
   ]
  },
  {
   "cell_type": "code",
   "execution_count": null,
   "id": "c6b4e22f",
   "metadata": {},
   "outputs": [],
   "source": []
  }
 ],
 "metadata": {
  "kernelspec": {
   "display_name": "Python 3",
   "language": "python",
   "name": "python3"
  },
  "language_info": {
   "codemirror_mode": {
    "name": "ipython",
    "version": 3
   },
   "file_extension": ".py",
   "mimetype": "text/x-python",
   "name": "python",
   "nbconvert_exporter": "python",
   "pygments_lexer": "ipython3",
   "version": "3.9.11"
  }
 },
 "nbformat": 4,
 "nbformat_minor": 5
}
