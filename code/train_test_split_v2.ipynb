{
 "cells": [
  {
   "cell_type": "code",
   "execution_count": 1,
   "id": "ff216e2e",
   "metadata": {},
   "outputs": [],
   "source": [
    "import os\n",
    "import shutil\n",
    "import random\n",
    "from tqdm import tqdm"
   ]
  },
  {
   "cell_type": "code",
   "execution_count": 2,
   "id": "caa61cab",
   "metadata": {},
   "outputs": [],
   "source": [
    "input_path = r\"C:\\Users\\dcmes\\OneDrive\\Desktop\\Microproyecto_Cervical_Cancer_Classifier\\Imagenes-ordenadas\"  \n",
    "output_path = r\"C:\\Users\\dcmes\\OneDrive\\Desktop\\Microproyecto_Cervical_Cancer_Classifier\\Imagenes-split\" \n",
    "os.makedirs(output_path, exist_ok=True)"
   ]
  },
  {
   "cell_type": "code",
   "execution_count": 4,
   "id": "c6bd92eb",
   "metadata": {},
   "outputs": [],
   "source": [
    "train_ratio = 0.7\n",
    "val_ratio = 0.15\n",
    "test_ratio = 0.15\n",
    "\n",
    "random.seed(42)\n",
    "\n",
    "clases = [\"clase_0\", \"clase_1\"]\n",
    "\n",
    "map_clases = {\n",
    "    \"clase_0\": \"class_0\",\n",
    "    \"clase_1\": \"class_1\"\n",
    "}\n",
    "\n",
    "splits = [\"train\", \"val\", \"test\"]\n",
    "for split in splits:\n",
    "    for clase in map_clases.values():\n",
    "        os.makedirs(os.path.join(output_path, split, clase), exist_ok=True)"
   ]
  },
  {
   "cell_type": "code",
   "execution_count": 5,
   "id": "c750b9e3",
   "metadata": {},
   "outputs": [
    {
     "name": "stderr",
     "output_type": "stream",
     "text": [
      "clase_0 → train: 100%|██████████| 18/18 [00:05<00:00,  3.02it/s]\n",
      "clase_0 → val: 100%|██████████| 4/4 [00:01<00:00,  2.54it/s]\n",
      "clase_0 → test: 100%|██████████| 5/5 [00:01<00:00,  3.18it/s]\n",
      "clase_1 → train: 100%|██████████| 6/6 [00:01<00:00,  3.51it/s]\n",
      "clase_1 → val: 100%|██████████| 1/1 [00:00<00:00,  2.16it/s]\n",
      "clase_1 → test: 100%|██████████| 2/2 [00:00<00:00,  2.58it/s]"
     ]
    },
    {
     "name": "stdout",
     "output_type": "stream",
     "text": [
      "Split completado en: C:\\Users\\dcmes\\OneDrive\\Desktop\\Microproyecto_Cervical_Cancer_Classifier\\Imagenes-split\n"
     ]
    },
    {
     "name": "stderr",
     "output_type": "stream",
     "text": [
      "\n"
     ]
    }
   ],
   "source": [
    "for clase in clases:\n",
    "    clase_path = os.path.join(input_path, clase)\n",
    "    pacientes = os.listdir(clase_path)\n",
    "    random.shuffle(pacientes)\n",
    "\n",
    "    # Split de pacientes\n",
    "    n_total = len(pacientes)\n",
    "    n_train = int(n_total * train_ratio)\n",
    "    n_val = int(n_total * val_ratio)\n",
    "\n",
    "    train_patients = pacientes[:n_train]\n",
    "    val_patients = pacientes[n_train:n_train + n_val]\n",
    "    test_patients = pacientes[n_train + n_val:]\n",
    "\n",
    "    splits_dict = {\n",
    "        \"train\": train_patients,\n",
    "        \"val\": val_patients,\n",
    "        \"test\": test_patients\n",
    "    }\n",
    "\n",
    "    # Copiar imágenes a la estructura final\n",
    "    for split, patients in splits_dict.items():\n",
    "        for patient in tqdm(patients, desc=f\"{clase} → {split}\"):\n",
    "            patient_folder = os.path.join(clase_path, patient)\n",
    "            for file in os.listdir(patient_folder):\n",
    "                if file.endswith(\".png\"):\n",
    "                    src = os.path.join(patient_folder, file)\n",
    "                    dst = os.path.join(output_path, split, map_clases[clase], file)\n",
    "                    shutil.copy2(src, dst)\n",
    "\n",
    "print(\"Split completado en:\", output_path)"
   ]
  },
  {
   "cell_type": "code",
   "execution_count": null,
   "id": "5a892209",
   "metadata": {},
   "outputs": [],
   "source": []
  }
 ],
 "metadata": {
  "kernelspec": {
   "display_name": "Python 3",
   "language": "python",
   "name": "python3"
  },
  "language_info": {
   "codemirror_mode": {
    "name": "ipython",
    "version": 3
   },
   "file_extension": ".py",
   "mimetype": "text/x-python",
   "name": "python",
   "nbconvert_exporter": "python",
   "pygments_lexer": "ipython3",
   "version": "3.9.11"
  }
 },
 "nbformat": 4,
 "nbformat_minor": 5
}
