{
 "cells": [
  {
   "cell_type": "code",
   "execution_count": 12,
   "id": "ded93519",
   "metadata": {},
   "outputs": [],
   "source": [
    "import os\n",
    "import random\n",
    "import shutil\n",
    "\n",
    "random.seed(42)"
   ]
  },
  {
   "cell_type": "code",
   "execution_count": 13,
   "id": "3574458f",
   "metadata": {},
   "outputs": [],
   "source": [
    "base_path = r\"C:\\Users\\dcmes\\OneDrive - Universidad de los andes\\Semestre 4\\2. Desarrollo de Soluciones\\Microproyecto_Cervical_Cancer_Classifier\\Imagenes (no subir a git)\\dataset\"\n",
    "\n",
    "# Nueva carpeta destino\n",
    "output_path = os.path.join(base_path, \"dataset_recortado\")"
   ]
  },
  {
   "cell_type": "code",
   "execution_count": 14,
   "id": "d1afdfd6",
   "metadata": {},
   "outputs": [],
   "source": [
    "splits = {\n",
    "    \"train\": 1000,\n",
    "    \"val\": 100,\n",
    "    \"test\": 200\n",
    "}"
   ]
  },
  {
   "cell_type": "code",
   "execution_count": 15,
   "id": "64453256",
   "metadata": {},
   "outputs": [],
   "source": [
    "if os.path.exists(output_path):\n",
    "    shutil.rmtree(output_path)"
   ]
  },
  {
   "cell_type": "code",
   "execution_count": 16,
   "id": "aa603edb",
   "metadata": {},
   "outputs": [],
   "source": [
    "for split in splits.keys():\n",
    "    for clase in [\"clase_0\", \"clase_1\"]:\n",
    "        os.makedirs(os.path.join(output_path, split, clase), exist_ok=True)"
   ]
  },
  {
   "cell_type": "code",
   "execution_count": 17,
   "id": "e095576d",
   "metadata": {},
   "outputs": [
    {
     "name": "stdout",
     "output_type": "stream",
     "text": [
      "Output path: C:\\Users\\dcmes\\OneDrive - Universidad de los andes\\Semestre 4\\2. Desarrollo de Soluciones\\Microproyecto_Cervical_Cancer_Classifier\\Imagenes (no subir a git)\\dataset\\dataset_recortado\n"
     ]
    }
   ],
   "source": [
    "for split, n_imgs in splits.items():\n",
    "    for clase in [\"clase_0\", \"clase_1\"]:\n",
    "        src_folder = os.path.join(base_path, split, clase)\n",
    "        dst_folder = os.path.join(output_path, split, clase)\n",
    "\n",
    "        all_images = os.listdir(src_folder)\n",
    "        \n",
    "        if len(all_images) < n_imgs:\n",
    "            raise ValueError(\n",
    "                f\"No hay suficientes imágenes en {src_folder}. \"\n",
    "                f\"Encontradas: {len(all_images)}, requeridas: {n_imgs}\")\n",
    "\n",
    "       \n",
    "        selected = random.sample(all_images, n_imgs)\n",
    "       \n",
    "        for img in selected:\n",
    "            shutil.copy(os.path.join(src_folder, img), os.path.join(dst_folder, img))\n",
    "\n",
    "print(\"Output path:\", output_path)"
   ]
  },
  {
   "cell_type": "code",
   "execution_count": null,
   "id": "addf686f",
   "metadata": {},
   "outputs": [],
   "source": []
  }
 ],
 "metadata": {
  "kernelspec": {
   "display_name": "base",
   "language": "python",
   "name": "python3"
  },
  "language_info": {
   "codemirror_mode": {
    "name": "ipython",
    "version": 3
   },
   "file_extension": ".py",
   "mimetype": "text/x-python",
   "name": "python",
   "nbconvert_exporter": "python",
   "pygments_lexer": "ipython3",
   "version": "3.12.9"
  }
 },
 "nbformat": 4,
 "nbformat_minor": 5
}
