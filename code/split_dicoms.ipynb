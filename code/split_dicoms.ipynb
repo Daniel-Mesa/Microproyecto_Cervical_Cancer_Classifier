{
 "cells": [
  {
   "cell_type": "code",
   "execution_count": 1,
   "id": "70e0ffb0",
   "metadata": {},
   "outputs": [
    {
     "name": "stdout",
     "output_type": "stream",
     "text": [
      "Carpetas reorganizadas según split y clase (clase_0/clase_1) con éxito.\n"
     ]
    }
   ],
   "source": [
    "import os\n",
    "import shutil\n",
    "import pandas as pd\n",
    "\n",
    "# --- Paths ---\n",
    "pk_path = r\"C:\\Users\\david\\OneDrive\\Documentos\\Maestria en IA\\Proyecto de grado 1\\Microproyecto\\Programa_microproyecto\\Microproyecto_Cervical_Cancer_Classifier\\data\"  # Ruta donde están los .pk\n",
    "patients_path = r\"C:\\Users\\david\\OneDrive\\Documentos\\Maestria en IA\\Proyecto de grado 1\\Microproyecto\\Programa_microproyecto\\TCGA-CESC\"  # Carpeta con todas las carpetas de pacientes\n",
    "output_path = r\"C:\\Users\\david\\OneDrive\\Documentos\\Maestria en IA\\Proyecto de grado 1\\Microproyecto\\Programa_microproyecto\\train_dataset\"  # Carpeta donde se guardará la estructura reorganizada\n",
    "\n",
    "# Crear subcarpetas para train, val y test, y dentro clase_0 y clase_1\n",
    "for split in [\"train\", \"val\", \"test\"]:\n",
    "    for cls in [\"clase_0\", \"clase_1\"]:\n",
    "        os.makedirs(os.path.join(output_path, split, cls), exist_ok=True)\n",
    "\n",
    "# --- Cargar archivos .pk ---\n",
    "train_df = pd.read_pickle(os.path.join(pk_path, \"X_train_raw.pk\"))\n",
    "val_df = pd.read_pickle(os.path.join(pk_path, \"X_val_raw.pk\"))\n",
    "test_df = pd.read_pickle(os.path.join(pk_path, \"X_test_raw.pk\"))\n",
    "\n",
    "# Función para crear un diccionario paciente -> clase\n",
    "def map_patient_to_class(df):\n",
    "    return dict(zip(df[\"Patient ID\"], df[\"Target\"]))\n",
    "\n",
    "train_map = map_patient_to_class(train_df)\n",
    "val_map = map_patient_to_class(val_df)\n",
    "test_map = map_patient_to_class(test_df)\n",
    "\n",
    "# --- Reorganizar carpetas ---\n",
    "for patient_folder in os.listdir(patients_path):\n",
    "    src_path = os.path.join(patients_path, patient_folder)\n",
    "    if not os.path.isdir(src_path):\n",
    "        continue  # Saltar archivos que no son carpetas\n",
    "\n",
    "    if patient_folder in train_map:\n",
    "        cls = f\"clase_{train_map[patient_folder]}\"\n",
    "        dst_path = os.path.join(output_path, \"train\", cls, patient_folder)\n",
    "    elif patient_folder in val_map:\n",
    "        cls = f\"clase_{val_map[patient_folder]}\"\n",
    "        dst_path = os.path.join(output_path, \"val\", cls, patient_folder)\n",
    "    elif patient_folder in test_map:\n",
    "        cls = f\"clase_{test_map[patient_folder]}\"\n",
    "        dst_path = os.path.join(output_path, \"test\", cls, patient_folder)\n",
    "    else:\n",
    "        continue  # Si no está en ningún split, no hacer nada\n",
    "\n",
    "    shutil.move(src_path, dst_path)\n",
    "\n",
    "print(\"Carpetas reorganizadas según split y clase (clase_0/clase_1) con éxito.\")\n"
   ]
  }
 ],
 "metadata": {
  "kernelspec": {
   "display_name": "venv",
   "language": "python",
   "name": "python3"
  },
  "language_info": {
   "codemirror_mode": {
    "name": "ipython",
    "version": 3
   },
   "file_extension": ".py",
   "mimetype": "text/x-python",
   "name": "python",
   "nbconvert_exporter": "python",
   "pygments_lexer": "ipython3",
   "version": "3.11.5"
  }
 },
 "nbformat": 4,
 "nbformat_minor": 5
}
