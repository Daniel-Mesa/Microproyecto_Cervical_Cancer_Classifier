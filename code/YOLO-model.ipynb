{
 "cells": [
  {
   "cell_type": "code",
   "execution_count": null,
   "id": "02f0ff01",
   "metadata": {},
   "outputs": [],
   "source": [
    "from ultralytics import YOLO\n",
    "import numpy as np\n",
    "from sklearn.metrics import roc_auc_score, roc_curve\n",
    "import matplotlib.pyplot as plt\n",
    "import os\n",
    "\n",
    "%matplotlib inline"
   ]
  },
  {
   "cell_type": "code",
   "execution_count": null,
   "id": "b7146efc",
   "metadata": {},
   "outputs": [],
   "source": [
    "model = YOLO(\"yolo11n-cls.pt\")"
   ]
  },
  {
   "cell_type": "code",
   "execution_count": null,
   "id": "5a25ca42",
   "metadata": {},
   "outputs": [],
   "source": [
    "model.train(\n",
    "    data=r\"C:\\Users\\dcmes\\OneDrive\\Desktop\\Microproyecto_Cervical_Cancer_Classifier\\dataset_preprocesado\",\n",
    "    epochs=100,\n",
    "    imgsz=224,\n",
    "    batch=128,\n",
    "    device=0,\n",
    "    #optimizer= \"AdamW\",\n",
    "    lr0=0.05,\n",
    "    #lrf= 0.1,\n",
    "    #cos_lr=True,\n",
    "    #mixup=0.1,\n",
    "    #cutmix=0.1,\n",
    ")"
   ]
  },
  {
   "cell_type": "code",
   "execution_count": null,
   "id": "ed0e608f",
   "metadata": {},
   "outputs": [],
   "source": [
    "# Ruta al conjunto de test\n",
    "test_dir = r\"C:\\Users\\dcmes\\OneDrive\\Desktop\\Microproyecto_Cervical_Cancer_Classifier\\dataset_preprocesado\\test\"\n",
    "classes = [\"class_0\", \"class_1\"]"
   ]
  },
  {
   "cell_type": "code",
   "execution_count": null,
   "id": "284f0f3e",
   "metadata": {},
   "outputs": [],
   "source": [
    "y_true = []\n",
    "y_scores = []"
   ]
  },
  {
   "cell_type": "code",
   "execution_count": null,
   "id": "091dad45",
   "metadata": {},
   "outputs": [],
   "source": [
    "# Recorremos ambas clases\n",
    "for idx, cls in enumerate(classes):\n",
    "    folder = os.path.join(test_dir, cls)\n",
    "    for file in os.listdir(folder):\n",
    "        if file.endswith((\".png\", \".jpg\")):\n",
    "            path = os.path.join(folder, file)\n",
    "            results = model(path, verbose=False)\n",
    "\n",
    "            # Probabilidades\n",
    "            probs = results[0].probs.data.cpu().numpy()\n",
    "            y_true.append(idx)        # etiqueta real\n",
    "            y_scores.append(probs[1]) # prob de clase \"1\""
   ]
  },
  {
   "cell_type": "code",
   "execution_count": null,
   "id": "8b5d833a",
   "metadata": {},
   "outputs": [],
   "source": [
    "y_true = np.array(y_true)\n",
    "y_scores = np.array(y_scores)\n",
    "\n",
    "roc_auc = roc_auc_score(y_true, y_scores)\n",
    "print(f\"AUC (roc_auc_score): {roc_auc:.4f}\")"
   ]
  },
  {
   "cell_type": "code",
   "execution_count": null,
   "id": "ae4710fd",
   "metadata": {},
   "outputs": [],
   "source": [
    "fpr, tpr, _ = roc_curve(y_true, y_scores)\n",
    "plt.figure()\n",
    "plt.plot(fpr, tpr, color=\"blue\", lw=2, label=f\"ROC curve (AUC = {roc_auc:.2f})\")\n",
    "plt.plot([0, 1], [0, 1], color=\"gray\", lw=2, linestyle=\"--\")\n",
    "plt.xlim([0.0, 1.0])\n",
    "plt.ylim([0.0, 1.05])\n",
    "plt.xlabel(\"False Positive Rate\")\n",
    "plt.ylabel(\"True Positive Rate\")\n",
    "plt.title(\"ROC Curve - Cervical Cancer Classification\")\n",
    "plt.legend(loc=\"lower right\")\n",
    "plt.show()"
   ]
  },
  {
   "cell_type": "code",
   "execution_count": null,
   "id": "f52a4ddf",
   "metadata": {},
   "outputs": [],
   "source": []
  }
 ],
 "metadata": {
  "kernelspec": {
   "display_name": "yoloenv",
   "language": "python",
   "name": "python3"
  },
  "language_info": {
   "codemirror_mode": {
    "name": "ipython",
    "version": 3
   },
   "file_extension": ".py",
   "mimetype": "text/x-python",
   "name": "python",
   "nbconvert_exporter": "python",
   "pygments_lexer": "ipython3",
   "version": "3.9.11"
  }
 },
 "nbformat": 4,
 "nbformat_minor": 5
}
