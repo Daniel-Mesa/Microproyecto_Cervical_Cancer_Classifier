{
 "cells": [
  {
   "cell_type": "code",
   "execution_count": 1,
   "id": "ae754148",
   "metadata": {},
   "outputs": [],
   "source": [
    "import os\n",
    "import shutil\n",
    "from tqdm import tqdm\n"
   ]
  },
  {
   "cell_type": "code",
   "execution_count": 3,
   "id": "9a4f0073",
   "metadata": {},
   "outputs": [],
   "source": [
    "base_path = r\"C:\\Users\\dcmes\\OneDrive\\Desktop\\Microproyecto_Cervical_Cancer_Classifier\\Imagenes-yolo\" \n",
    "output_path = r\"C:\\Users\\dcmes\\OneDrive\\Desktop\\Microproyecto_Cervical_Cancer_Classifier\\Imagenes-ordenadas\"\n",
    "os.makedirs(output_path, exist_ok=True)\n",
    "\n",
    "clases = [\"clase_0\", \"clase_1\"]"
   ]
  },
  {
   "cell_type": "code",
   "execution_count": 4,
   "id": "56718cdd",
   "metadata": {},
   "outputs": [
    {
     "name": "stderr",
     "output_type": "stream",
     "text": [
      "Procesando clase_0: 100%|██████████| 2699/2699 [00:10<00:00, 263.25it/s]\n",
      "Procesando clase_1: 100%|██████████| 884/884 [00:02<00:00, 295.44it/s] "
     ]
    },
    {
     "name": "stdout",
     "output_type": "stream",
     "text": [
      "✅ Reorganización completada en: C:\\Users\\dcmes\\OneDrive\\Desktop\\Microproyecto_Cervical_Cancer_Classifier\\Imagenes-ordenadas\n"
     ]
    },
    {
     "name": "stderr",
     "output_type": "stream",
     "text": [
      "\n"
     ]
    }
   ],
   "source": [
    "for clase in clases:\n",
    "    clase_path = os.path.join(base_path, clase)\n",
    "    output_clase_path = os.path.join(output_path, clase)\n",
    "    os.makedirs(output_clase_path, exist_ok=True)\n",
    "    \n",
    "    # Recorre todos los archivos PNG dentro de la carpeta de la clase\n",
    "    for file in tqdm(os.listdir(clase_path), desc=f\"Procesando {clase}\"):\n",
    "        if file.endswith(\".png\"):\n",
    "            # Extraer ID del paciente (antes del primer \"_\")\n",
    "            patient_id = file.split(\"_\")[0]\n",
    "            \n",
    "            # Crear carpeta con el ID del paciente en la salida\n",
    "            patient_folder = os.path.join(output_clase_path, patient_id)\n",
    "            os.makedirs(patient_folder, exist_ok=True)\n",
    "            \n",
    "            # Copiar la imagen a la carpeta del paciente\n",
    "            src = os.path.join(clase_path, file)\n",
    "            dst = os.path.join(patient_folder, file)\n",
    "            shutil.copy2(src, dst)\n",
    "\n",
    "print(\"✅ Reorganización completada en:\", output_path)"
   ]
  },
  {
   "cell_type": "code",
   "execution_count": null,
   "id": "fa4f9948",
   "metadata": {},
   "outputs": [],
   "source": []
  }
 ],
 "metadata": {
  "kernelspec": {
   "display_name": "Python 3",
   "language": "python",
   "name": "python3"
  },
  "language_info": {
   "codemirror_mode": {
    "name": "ipython",
    "version": 3
   },
   "file_extension": ".py",
   "mimetype": "text/x-python",
   "name": "python",
   "nbconvert_exporter": "python",
   "pygments_lexer": "ipython3",
   "version": "3.9.11"
  }
 },
 "nbformat": 4,
 "nbformat_minor": 5
}
